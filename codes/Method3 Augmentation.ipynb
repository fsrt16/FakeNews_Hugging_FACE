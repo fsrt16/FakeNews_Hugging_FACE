{
  "nbformat": 4,
  "nbformat_minor": 0,
  "metadata": {
    "kernelspec": {
      "language": "python",
      "display_name": "Python 3",
      "name": "python3"
    },
    "language_info": {
      "name": "python",
      "version": "3.7.10",
      "mimetype": "text/x-python",
      "codemirror_mode": {
        "name": "ipython",
        "version": 3
      },
      "pygments_lexer": "ipython3",
      "nbconvert_exporter": "python",
      "file_extension": ".py"
    },
    "colab": {
      "name": "Method3 Augmentation.ipynb",
      "provenance": [],
      "collapsed_sections": []
    }
  },
  "cells": [
    {
      "cell_type": "code",
      "metadata": {
        "_uuid": "8f2839f25d086af736a60e9eeb907d3b93b6e0e5",
        "_cell_guid": "b1076dfc-b9ad-4769-8c92-a6c4dae69d19",
        "execution": {
          "iopub.status.busy": "2021-08-28T05:03:33.139939Z",
          "iopub.execute_input": "2021-08-28T05:03:33.140408Z",
          "iopub.status.idle": "2021-08-28T05:03:43.637923Z",
          "shell.execute_reply.started": "2021-08-28T05:03:33.140301Z",
          "shell.execute_reply": "2021-08-28T05:03:43.636729Z"
        },
        "trusted": true,
        "id": "07ivSldPJtAr",
        "outputId": "79113831-2041-49d3-99cd-b2f0a1989375"
      },
      "source": [
        "import tensorflow as tf\n",
        "import tensorflow_hub as hub\n",
        "import pandas as pd\n",
        "from sklearn.model_selection import train_test_split\n",
        "import numpy as np\n",
        "import re\n",
        "import unicodedata\n",
        "import nltk\n",
        "from nltk.corpus import stopwords\n",
        "from tensorflow import keras\n",
        "from tensorflow.keras.layers import Dense,Dropout, Input, Reshape\n",
        "from tqdm import tqdm\n",
        "import pickle\n",
        "from sklearn.metrics import confusion_matrix,f1_score,classification_report\n",
        "import matplotlib.pyplot as plt\n",
        "import itertools\n",
        "from sklearn.utils import shuffle\n",
        "from tensorflow.keras import regularizers\n",
        "from transformers import *\n",
        "from transformers import BertTokenizer, TFBertModel, BertConfig,TFDistilBertModel,DistilBertTokenizer,DistilBertConfig\n",
        "import numpy as np\n",
        "import pandas as pd\n",
        "from sklearn import preprocessing \n",
        "import warnings\n",
        "warnings.filterwarnings(\"ignore\")"
      ],
      "execution_count": null,
      "outputs": [
        {
          "name": "stderr",
          "text": "/opt/conda/lib/python3.7/site-packages/torchaudio/backend/utils.py:54: UserWarning: \"sox\" backend is being deprecated. The default backend will be changed to \"sox_io\" backend in 0.8.0 and \"sox\" backend will be removed in 0.9.0. Please migrate to \"sox_io\" backend. Please refer to https://github.com/pytorch/audio/issues/903 for the detail.\n  '\"sox\" backend is being deprecated. '\n",
          "output_type": "stream"
        }
      ]
    },
    {
      "cell_type": "code",
      "metadata": {
        "execution": {
          "iopub.status.busy": "2021-08-28T05:03:43.639618Z",
          "iopub.execute_input": "2021-08-28T05:03:43.639874Z",
          "iopub.status.idle": "2021-08-28T05:03:52.859358Z",
          "shell.execute_reply.started": "2021-08-28T05:03:43.639844Z",
          "shell.execute_reply": "2021-08-28T05:03:52.858538Z"
        },
        "trusted": true,
        "id": "9URFwVuUJtA7",
        "outputId": "3a2a1268-055e-4bf7-a1d5-8a46d6010f12"
      },
      "source": [
        "!pip install numpy requests nlpaug\n",
        "import pandas as pd\n",
        "import numpy as np\n",
        "import nlpaug.augmenter.word as nlpaw\n",
        "from tqdm import tqdm"
      ],
      "execution_count": null,
      "outputs": [
        {
          "name": "stdout",
          "text": "Requirement already satisfied: numpy in /opt/conda/lib/python3.7/site-packages (1.19.5)\nRequirement already satisfied: requests in /opt/conda/lib/python3.7/site-packages (2.25.1)\nCollecting nlpaug\n  Downloading nlpaug-1.1.7-py3-none-any.whl (405 kB)\n\u001b[K     |████████████████████████████████| 405 kB 4.3 MB/s eta 0:00:01\n\u001b[?25hRequirement already satisfied: idna<3,>=2.5 in /opt/conda/lib/python3.7/site-packages (from requests) (2.10)\nRequirement already satisfied: urllib3<1.27,>=1.21.1 in /opt/conda/lib/python3.7/site-packages (from requests) (1.26.5)\nRequirement already satisfied: chardet<5,>=3.0.2 in /opt/conda/lib/python3.7/site-packages (from requests) (4.0.0)\nRequirement already satisfied: certifi>=2017.4.17 in /opt/conda/lib/python3.7/site-packages (from requests) (2021.5.30)\nInstalling collected packages: nlpaug\nSuccessfully installed nlpaug-1.1.7\n\u001b[33mWARNING: Running pip as root will break packages and permissions. You should install packages reliably by using venv: https://pip.pypa.io/warnings/venv\u001b[0m\n",
          "output_type": "stream"
        }
      ]
    },
    {
      "cell_type": "code",
      "metadata": {
        "execution": {
          "iopub.status.busy": "2021-08-28T05:03:52.864729Z",
          "iopub.execute_input": "2021-08-28T05:03:52.865130Z",
          "iopub.status.idle": "2021-08-28T05:04:01.247657Z",
          "shell.execute_reply.started": "2021-08-28T05:03:52.865092Z",
          "shell.execute_reply": "2021-08-28T05:04:01.246755Z"
        },
        "trusted": true,
        "id": "zzwaqyzAJtA_",
        "outputId": "338c57d1-e460-483a-b784-3927479b5c69"
      },
      "source": [
        "!pip install transformers==3.0.0"
      ],
      "execution_count": null,
      "outputs": [
        {
          "name": "stdout",
          "text": "Collecting transformers==3.0.0\n  Downloading transformers-3.0.0-py3-none-any.whl (754 kB)\n\u001b[K     |████████████████████████████████| 754 kB 4.4 MB/s eta 0:00:01\n\u001b[?25hRequirement already satisfied: numpy in /opt/conda/lib/python3.7/site-packages (from transformers==3.0.0) (1.19.5)\nRequirement already satisfied: packaging in /opt/conda/lib/python3.7/site-packages (from transformers==3.0.0) (20.9)\nRequirement already satisfied: requests in /opt/conda/lib/python3.7/site-packages (from transformers==3.0.0) (2.25.1)\nRequirement already satisfied: sentencepiece in /opt/conda/lib/python3.7/site-packages (from transformers==3.0.0) (0.1.96)\nRequirement already satisfied: filelock in /opt/conda/lib/python3.7/site-packages (from transformers==3.0.0) (3.0.12)\nRequirement already satisfied: tqdm>=4.27 in /opt/conda/lib/python3.7/site-packages (from transformers==3.0.0) (4.61.1)\nRequirement already satisfied: sacremoses in /opt/conda/lib/python3.7/site-packages (from transformers==3.0.0) (0.0.45)\nRequirement already satisfied: regex!=2019.12.17 in /opt/conda/lib/python3.7/site-packages (from transformers==3.0.0) (2021.4.4)\nCollecting tokenizers==0.8.0-rc4\n  Downloading tokenizers-0.8.0rc4-cp37-cp37m-manylinux1_x86_64.whl (3.0 MB)\n\u001b[K     |████████████████████████████████| 3.0 MB 30.3 MB/s eta 0:00:01\n\u001b[?25hRequirement already satisfied: pyparsing>=2.0.2 in /opt/conda/lib/python3.7/site-packages (from packaging->transformers==3.0.0) (2.4.7)\nRequirement already satisfied: urllib3<1.27,>=1.21.1 in /opt/conda/lib/python3.7/site-packages (from requests->transformers==3.0.0) (1.26.5)\nRequirement already satisfied: chardet<5,>=3.0.2 in /opt/conda/lib/python3.7/site-packages (from requests->transformers==3.0.0) (4.0.0)\nRequirement already satisfied: certifi>=2017.4.17 in /opt/conda/lib/python3.7/site-packages (from requests->transformers==3.0.0) (2021.5.30)\nRequirement already satisfied: idna<3,>=2.5 in /opt/conda/lib/python3.7/site-packages (from requests->transformers==3.0.0) (2.10)\nRequirement already satisfied: six in /opt/conda/lib/python3.7/site-packages (from sacremoses->transformers==3.0.0) (1.15.0)\nRequirement already satisfied: click in /opt/conda/lib/python3.7/site-packages (from sacremoses->transformers==3.0.0) (7.1.2)\nRequirement already satisfied: joblib in /opt/conda/lib/python3.7/site-packages (from sacremoses->transformers==3.0.0) (1.0.1)\nInstalling collected packages: tokenizers, transformers\n  Attempting uninstall: tokenizers\n    Found existing installation: tokenizers 0.10.3\n    Uninstalling tokenizers-0.10.3:\n      Successfully uninstalled tokenizers-0.10.3\n  Attempting uninstall: transformers\n    Found existing installation: transformers 4.6.1\n    Uninstalling transformers-4.6.1:\n      Successfully uninstalled transformers-4.6.1\n\u001b[31mERROR: pip's dependency resolver does not currently take into account all the packages that are installed. This behaviour is the source of the following dependency conflicts.\nallennlp 2.5.0 requires transformers<4.7,>=4.1, but you have transformers 3.0.0 which is incompatible.\u001b[0m\nSuccessfully installed tokenizers-0.8.0rc4 transformers-3.0.0\n\u001b[33mWARNING: Running pip as root will break packages and permissions. You should install packages reliably by using venv: https://pip.pypa.io/warnings/venv\u001b[0m\n",
          "output_type": "stream"
        }
      ]
    },
    {
      "cell_type": "code",
      "metadata": {
        "execution": {
          "iopub.status.busy": "2021-08-28T05:04:01.249268Z",
          "iopub.execute_input": "2021-08-28T05:04:01.249540Z",
          "iopub.status.idle": "2021-08-28T05:04:01.466503Z",
          "shell.execute_reply.started": "2021-08-28T05:04:01.249511Z",
          "shell.execute_reply": "2021-08-28T05:04:01.465633Z"
        },
        "trusted": true,
        "id": "AOkTy19oJtBB",
        "outputId": "7eb6739b-c81b-41bd-dbb3-b8e895d92196"
      },
      "source": [
        "def dataframe_creation():\n",
        "    col_list=['Loc','Pred','Sent','Topic','Speaker','Position','Region','Party','a','b','c','d','e','Occasion']\n",
        "    df_4 = pd.read_csv('../input/newsdatasets/other_dataset/other_dataset/LIAR/valid.tsv',header = None,sep='\\t')\n",
        "    df_2 = pd.read_csv('../input/newsdatasets/other_dataset/other_dataset/LIAR/test.tsv',header = None,sep='\\t')\n",
        "    df_3 = pd.read_csv('../input/newsdatasets/other_dataset/other_dataset/LIAR/train.tsv',header = None,sep='\\t')\n",
        "    df_4 = pd.concat([df_2,df_3,df_4],ignore_index=True)\n",
        "    df_4.columns =  col_list\n",
        "    \n",
        "    return df_4\n",
        "\n",
        "df = dataframe_creation()\n",
        "print(df.shape)\n",
        "le = preprocessing.LabelEncoder()\n",
        "df.drop(df.columns.difference(['Pred','Sent']), 1, inplace=True)\n",
        "df.head()"
      ],
      "execution_count": null,
      "outputs": [
        {
          "name": "stdout",
          "text": "(12791, 14)\n",
          "output_type": "stream"
        },
        {
          "execution_count": 4,
          "output_type": "execute_result",
          "data": {
            "text/plain": "         Pred                                               Sent\n0        true  Building a wall on the U.S.-Mexico border will...\n1       false  Wisconsin is on pace to double the number of l...\n2       false  Says John McCain has done nothing to help the ...\n3   half-true  Suzanne Bonamici supports a plan that will cut...\n4  pants-fire  When asked by a reporter whether hes at the ce...",
            "text/html": "<div>\n<style scoped>\n    .dataframe tbody tr th:only-of-type {\n        vertical-align: middle;\n    }\n\n    .dataframe tbody tr th {\n        vertical-align: top;\n    }\n\n    .dataframe thead th {\n        text-align: right;\n    }\n</style>\n<table border=\"1\" class=\"dataframe\">\n  <thead>\n    <tr style=\"text-align: right;\">\n      <th></th>\n      <th>Pred</th>\n      <th>Sent</th>\n    </tr>\n  </thead>\n  <tbody>\n    <tr>\n      <th>0</th>\n      <td>true</td>\n      <td>Building a wall on the U.S.-Mexico border will...</td>\n    </tr>\n    <tr>\n      <th>1</th>\n      <td>false</td>\n      <td>Wisconsin is on pace to double the number of l...</td>\n    </tr>\n    <tr>\n      <th>2</th>\n      <td>false</td>\n      <td>Says John McCain has done nothing to help the ...</td>\n    </tr>\n    <tr>\n      <th>3</th>\n      <td>half-true</td>\n      <td>Suzanne Bonamici supports a plan that will cut...</td>\n    </tr>\n    <tr>\n      <th>4</th>\n      <td>pants-fire</td>\n      <td>When asked by a reporter whether hes at the ce...</td>\n    </tr>\n  </tbody>\n</table>\n</div>"
          },
          "metadata": {}
        }
      ]
    },
    {
      "cell_type": "code",
      "metadata": {
        "execution": {
          "iopub.status.busy": "2021-08-28T05:04:01.467627Z",
          "iopub.execute_input": "2021-08-28T05:04:01.467892Z",
          "iopub.status.idle": "2021-08-28T05:04:01.474857Z",
          "shell.execute_reply.started": "2021-08-28T05:04:01.467862Z",
          "shell.execute_reply": "2021-08-28T05:04:01.473984Z"
        },
        "trusted": true,
        "id": "lEuBAxOrJtBD",
        "outputId": "d2ccaf36-9b24-400d-a623-9c455c578d0d"
      },
      "source": [
        "df.shape"
      ],
      "execution_count": null,
      "outputs": [
        {
          "execution_count": 5,
          "output_type": "execute_result",
          "data": {
            "text/plain": "(12791, 2)"
          },
          "metadata": {}
        }
      ]
    },
    {
      "cell_type": "code",
      "metadata": {
        "execution": {
          "iopub.status.busy": "2021-08-28T05:04:01.477397Z",
          "iopub.execute_input": "2021-08-28T05:04:01.477716Z",
          "iopub.status.idle": "2021-08-28T05:04:01.508585Z",
          "shell.execute_reply.started": "2021-08-28T05:04:01.477678Z",
          "shell.execute_reply": "2021-08-28T05:04:01.507641Z"
        },
        "trusted": true,
        "id": "rMIOnNeqJtBF",
        "outputId": "bbb70f7b-8975-47b0-f514-7ca27348ac75"
      },
      "source": [
        "df['Pred'].value_counts(normalize = True)"
      ],
      "execution_count": null,
      "outputs": [
        {
          "execution_count": 6,
          "output_type": "execute_result",
          "data": {
            "text/plain": "half-true      0.205379\nfalse          0.195997\nmostly-true    0.191854\nbarely-true    0.164412\ntrue           0.160503\npants-fire     0.081854\nName: Pred, dtype: float64"
          },
          "metadata": {}
        }
      ]
    },
    {
      "cell_type": "code",
      "metadata": {
        "execution": {
          "iopub.status.busy": "2021-08-28T05:04:01.509954Z",
          "iopub.execute_input": "2021-08-28T05:04:01.510225Z",
          "iopub.status.idle": "2021-08-28T05:04:01.883388Z",
          "shell.execute_reply.started": "2021-08-28T05:04:01.510199Z",
          "shell.execute_reply": "2021-08-28T05:04:01.882391Z"
        },
        "trusted": true,
        "id": "oF-Aw6UaJtBO",
        "outputId": "e2bc0daf-bd9a-4e6c-9b7d-f081c1349ebd"
      },
      "source": [
        "# get length of all the messages in the train set\n",
        "seq_len = [len(i.split()) for i in df['Sent']]\n",
        "\n",
        "pd.Series(seq_len).hist(bins = 100)"
      ],
      "execution_count": null,
      "outputs": [
        {
          "execution_count": 7,
          "output_type": "execute_result",
          "data": {
            "text/plain": "<AxesSubplot:>"
          },
          "metadata": {}
        },
        {
          "output_type": "display_data",
          "data": {
            "text/plain": "<Figure size 432x288 with 1 Axes>",
            "image/png": "[encoded data removed]"
          },
          "metadata": {
            "needs_background": "light"
          }
        }
      ]
    },
    {
      "cell_type": "code",
      "metadata": {
        "execution": {
          "iopub.status.busy": "2021-08-28T05:04:01.884710Z",
          "iopub.execute_input": "2021-08-28T05:04:01.885043Z",
          "iopub.status.idle": "2021-08-28T05:04:01.889419Z",
          "shell.execute_reply.started": "2021-08-28T05:04:01.884994Z",
          "shell.execute_reply": "2021-08-28T05:04:01.888481Z"
        },
        "trusted": true,
        "id": "7p53cqUIJtBT"
      },
      "source": [
        "max_len = 30"
      ],
      "execution_count": null,
      "outputs": []
    },
    {
      "cell_type": "markdown",
      "metadata": {
        "id": "1ANmCaQNJtBW"
      },
      "source": [
        "From the above we can conclude that there are 10,675 data sample with 150 character or max len 30 and 2000 data sample with max len 467. This creates a huge sparse matrix which inturn stumbles the modelling analysis"
      ]
    },
    {
      "cell_type": "code",
      "metadata": {
        "execution": {
          "iopub.status.busy": "2021-08-28T05:04:01.891047Z",
          "iopub.execute_input": "2021-08-28T05:04:01.891336Z",
          "iopub.status.idle": "2021-08-28T05:04:01.906181Z",
          "shell.execute_reply.started": "2021-08-28T05:04:01.891308Z",
          "shell.execute_reply": "2021-08-28T05:04:01.904992Z"
        },
        "trusted": true,
        "id": "-VlIeNDxJtBg",
        "outputId": "31a61959-b21c-449b-89f3-6f91a3b22b72"
      },
      "source": [
        "df.head()"
      ],
      "execution_count": null,
      "outputs": [
        {
          "execution_count": 9,
          "output_type": "execute_result",
          "data": {
            "text/plain": "         Pred                                               Sent\n0        true  Building a wall on the U.S.-Mexico border will...\n1       false  Wisconsin is on pace to double the number of l...\n2       false  Says John McCain has done nothing to help the ...\n3   half-true  Suzanne Bonamici supports a plan that will cut...\n4  pants-fire  When asked by a reporter whether hes at the ce...",
            "text/html": "<div>\n<style scoped>\n    .dataframe tbody tr th:only-of-type {\n        vertical-align: middle;\n    }\n\n    .dataframe tbody tr th {\n        vertical-align: top;\n    }\n\n    .dataframe thead th {\n        text-align: right;\n    }\n</style>\n<table border=\"1\" class=\"dataframe\">\n  <thead>\n    <tr style=\"text-align: right;\">\n      <th></th>\n      <th>Pred</th>\n      <th>Sent</th>\n    </tr>\n  </thead>\n  <tbody>\n    <tr>\n      <th>0</th>\n      <td>true</td>\n      <td>Building a wall on the U.S.-Mexico border will...</td>\n    </tr>\n    <tr>\n      <th>1</th>\n      <td>false</td>\n      <td>Wisconsin is on pace to double the number of l...</td>\n    </tr>\n    <tr>\n      <th>2</th>\n      <td>false</td>\n      <td>Says John McCain has done nothing to help the ...</td>\n    </tr>\n    <tr>\n      <th>3</th>\n      <td>half-true</td>\n      <td>Suzanne Bonamici supports a plan that will cut...</td>\n    </tr>\n    <tr>\n      <th>4</th>\n      <td>pants-fire</td>\n      <td>When asked by a reporter whether hes at the ce...</td>\n    </tr>\n  </tbody>\n</table>\n</div>"
          },
          "metadata": {}
        }
      ]
    },
    {
      "cell_type": "code",
      "metadata": {
        "execution": {
          "iopub.status.busy": "2021-08-28T05:04:01.907869Z",
          "iopub.execute_input": "2021-08-28T05:04:01.908278Z",
          "iopub.status.idle": "2021-08-28T05:04:01.929592Z",
          "shell.execute_reply.started": "2021-08-28T05:04:01.908236Z",
          "shell.execute_reply": "2021-08-28T05:04:01.928610Z"
        },
        "trusted": true,
        "id": "igMMKFSKJtBh",
        "outputId": "dccfe9e5-d366-4ad7-aec6-c0acb7864ed2"
      },
      "source": [
        "df.groupby('Pred').count()"
      ],
      "execution_count": null,
      "outputs": [
        {
          "execution_count": 10,
          "output_type": "execute_result",
          "data": {
            "text/plain": "             Sent\nPred             \nbarely-true  2103\nfalse        2507\nhalf-true    2627\nmostly-true  2454\npants-fire   1047\ntrue         2053",
            "text/html": "<div>\n<style scoped>\n    .dataframe tbody tr th:only-of-type {\n        vertical-align: middle;\n    }\n\n    .dataframe tbody tr th {\n        vertical-align: top;\n    }\n\n    .dataframe thead th {\n        text-align: right;\n    }\n</style>\n<table border=\"1\" class=\"dataframe\">\n  <thead>\n    <tr style=\"text-align: right;\">\n      <th></th>\n      <th>Sent</th>\n    </tr>\n    <tr>\n      <th>Pred</th>\n      <th></th>\n    </tr>\n  </thead>\n  <tbody>\n    <tr>\n      <th>barely-true</th>\n      <td>2103</td>\n    </tr>\n    <tr>\n      <th>false</th>\n      <td>2507</td>\n    </tr>\n    <tr>\n      <th>half-true</th>\n      <td>2627</td>\n    </tr>\n    <tr>\n      <th>mostly-true</th>\n      <td>2454</td>\n    </tr>\n    <tr>\n      <th>pants-fire</th>\n      <td>1047</td>\n    </tr>\n    <tr>\n      <th>true</th>\n      <td>2053</td>\n    </tr>\n  </tbody>\n</table>\n</div>"
          },
          "metadata": {}
        }
      ]
    },
    {
      "cell_type": "code",
      "metadata": {
        "execution": {
          "iopub.status.busy": "2021-08-28T05:04:01.930805Z",
          "iopub.execute_input": "2021-08-28T05:04:01.931246Z",
          "iopub.status.idle": "2021-08-28T05:04:07.304270Z",
          "shell.execute_reply.started": "2021-08-28T05:04:01.931204Z",
          "shell.execute_reply": "2021-08-28T05:04:07.303490Z"
        },
        "trusted": true,
        "id": "kTCtWCKRJtBk"
      },
      "source": [
        "import nlpaug.augmenter.char as nac\n",
        "import nlpaug.augmenter.word as naw\n",
        "import nlpaug.augmenter.sentence as nas\n",
        "import nlpaug.flow as nafc\n",
        "from nlpaug.util import Action\n",
        "X = df.loc[df['Pred'] == 'pants-fire']['Sent'].tolist()\n",
        "Y = df.loc[df['Pred'] == 'pants-fire']['Pred'].tolist()\n",
        "aug = naw.SynonymAug(aug_src='wordnet')\n",
        "augmented_text = aug.augment(X)\n",
        "X = df['Sent'].tolist()\n",
        "X= X + augmented_text\n",
        "Y1 = df['Pred'].tolist()\n",
        "Y1 = Y1 + Y\n",
        "df = pd.DataFrame(list(zip(X,Y1)),\n",
        "               columns =['Sent', 'Pred'])"
      ],
      "execution_count": null,
      "outputs": []
    },
    {
      "cell_type": "code",
      "metadata": {
        "execution": {
          "iopub.status.busy": "2021-08-28T05:04:07.305333Z",
          "iopub.execute_input": "2021-08-28T05:04:07.305766Z",
          "iopub.status.idle": "2021-08-28T05:04:07.312118Z",
          "shell.execute_reply.started": "2021-08-28T05:04:07.305722Z",
          "shell.execute_reply": "2021-08-28T05:04:07.311015Z"
        },
        "trusted": true,
        "id": "e1gYHK2GJtBm",
        "outputId": "86d9c56a-4bfd-49cd-a3ff-fee90400ff35"
      },
      "source": [
        "df.shape"
      ],
      "execution_count": null,
      "outputs": [
        {
          "execution_count": 12,
          "output_type": "execute_result",
          "data": {
            "text/plain": "(13838, 2)"
          },
          "metadata": {}
        }
      ]
    },
    {
      "cell_type": "code",
      "metadata": {
        "execution": {
          "iopub.status.busy": "2021-08-28T05:04:07.313329Z",
          "iopub.execute_input": "2021-08-28T05:04:07.313633Z",
          "iopub.status.idle": "2021-08-28T05:04:07.339394Z",
          "shell.execute_reply.started": "2021-08-28T05:04:07.313597Z",
          "shell.execute_reply": "2021-08-28T05:04:07.338438Z"
        },
        "trusted": true,
        "id": "TA_eoLFlJtBn",
        "outputId": "a0974b80-fd29-4fe6-824b-37199bad9138"
      },
      "source": [
        "df.groupby('Pred').count()"
      ],
      "execution_count": null,
      "outputs": [
        {
          "execution_count": 13,
          "output_type": "execute_result",
          "data": {
            "text/plain": "             Sent\nPred             \nbarely-true  2103\nfalse        2507\nhalf-true    2627\nmostly-true  2454\npants-fire   2094\ntrue         2053",
            "text/html": "<div>\n<style scoped>\n    .dataframe tbody tr th:only-of-type {\n        vertical-align: middle;\n    }\n\n    .dataframe tbody tr th {\n        vertical-align: top;\n    }\n\n    .dataframe thead th {\n        text-align: right;\n    }\n</style>\n<table border=\"1\" class=\"dataframe\">\n  <thead>\n    <tr style=\"text-align: right;\">\n      <th></th>\n      <th>Sent</th>\n    </tr>\n    <tr>\n      <th>Pred</th>\n      <th></th>\n    </tr>\n  </thead>\n  <tbody>\n    <tr>\n      <th>barely-true</th>\n      <td>2103</td>\n    </tr>\n    <tr>\n      <th>false</th>\n      <td>2507</td>\n    </tr>\n    <tr>\n      <th>half-true</th>\n      <td>2627</td>\n    </tr>\n    <tr>\n      <th>mostly-true</th>\n      <td>2454</td>\n    </tr>\n    <tr>\n      <th>pants-fire</th>\n      <td>2094</td>\n    </tr>\n    <tr>\n      <th>true</th>\n      <td>2053</td>\n    </tr>\n  </tbody>\n</table>\n</div>"
          },
          "metadata": {}
        }
      ]
    },
    {
      "cell_type": "markdown",
      "metadata": {
        "id": "dfUnY7djJtBv"
      },
      "source": [
        "# Data Augmentation"
      ]
    },
    {
      "cell_type": "markdown",
      "metadata": {
        "id": "ZLCtOy0zJtBw"
      },
      "source": [
        "## 1. Synonym Replacement :\n",
        "Synonym replacement is a technique in which we replace a word by one of its synonyms\n",
        "\n",
        "For identifying relevent Synonyms we use WordNet\n",
        "\n",
        "## 2.Random Deletion (RD)\n",
        "In Random Deletion, we randomly delete a word if a uniformly generated number between 0 and 1 is smaller than a pre-defined threshold. This allows for a random deletion of some words of the sentence.\n",
        "\n",
        "## 3. Random Swap (RS)\n",
        "In Random Swap, we randomly swap the order of two words in a sentence.\n",
        "\n",
        "## 4. Random Insertion (RI)\n",
        "Finally, in Random Insertion, we randomly insert synonyms of a word at a random position.\n",
        "\n",
        "Data augmentation operations should not change the true label of a sentence, as that would introduce unnecessary noise into the data. Inserting a synonym of a word in a sentence, opposed to a random word, is more likely to be relevant to the context and retain the original label of the sentence.\n",
        "\n",
        "\n",
        "\n",
        "Link to Paper : https://arxiv.org/abs/1901.11196\n",
        "\n",
        "Repo Link : https://github.com/jasonwei20/eda_nlp"
      ]
    },
    {
      "cell_type": "code",
      "metadata": {
        "execution": {
          "iopub.status.busy": "2021-08-28T05:04:07.341084Z",
          "iopub.execute_input": "2021-08-28T05:04:07.341427Z",
          "iopub.status.idle": "2021-08-28T05:04:07.363110Z",
          "shell.execute_reply.started": "2021-08-28T05:04:07.341394Z",
          "shell.execute_reply": "2021-08-28T05:04:07.361672Z"
        },
        "trusted": true,
        "id": "2xn6hI0sJtBw",
        "outputId": "9447d30c-68ef-4833-d002-fecfcfbc144b"
      },
      "source": [
        "from nltk.corpus import wordnet\n",
        "import random\n",
        "from nltk.corpus import stopwords\n",
        "stop_words = []\n",
        "for w in stopwords.words('english'):\n",
        "    stop_words.append(w)\n",
        "print(stop_words)\n",
        "def synonym_replacement(words, n):\n",
        "    \n",
        "    words = words.split()\n",
        "    \n",
        "    new_words = words.copy()\n",
        "    random_word_list = list(set([word for word in words if word not in stop_words]))\n",
        "    random.shuffle(random_word_list)\n",
        "    num_replaced = 0\n",
        "    \n",
        "    for random_word in random_word_list:\n",
        "        synonyms = get_synonyms(random_word)\n",
        "        \n",
        "        if len(synonyms) >= 1:\n",
        "            synonym = random.choice(list(synonyms))\n",
        "            new_words = [synonym if word == random_word else word for word in new_words]\n",
        "            num_replaced += 1\n",
        "        \n",
        "        if num_replaced >= n: #only replace up to n words\n",
        "            break\n",
        "\n",
        "    sentence = ' '.join(new_words)\n",
        "\n",
        "    return sentence\n",
        "def get_synonyms(word):\n",
        "    \n",
        "    synonyms = set()\n",
        "    \n",
        "    for syn in wordnet.synsets(word):\n",
        "        for l in syn.lemmas():\n",
        "            synonym = l.name().replace(\"_\", \" \").replace(\"-\", \" \").lower()\n",
        "            synonym = \"\".join([char for char in synonym if char in ' qwertyuiopasdfghjklzxcvbnm'])\n",
        "            synonyms.add(synonym) \n",
        "    if word in synonyms:\n",
        "        synonyms.remove(word)\n",
        "    \n",
        "    return list(synonyms)\n",
        "def random_deletion(words, p):\n",
        "\n",
        "    words = words.split()\n",
        "    \n",
        "    #obviously, if there's only one word, don't delete it\n",
        "    if len(words) == 1:\n",
        "        return words\n",
        "\n",
        "    #randomly delete words with probability p\n",
        "    new_words = []\n",
        "    for word in words:\n",
        "        r = random.uniform(0, 1)\n",
        "        if r > p:\n",
        "            new_words.append(word)\n",
        "\n",
        "    #if you end up deleting all words, just return a random word\n",
        "    if len(new_words) == 0:\n",
        "        rand_int = random.randint(0, len(words)-1)\n",
        "        return [words[rand_int]]\n",
        "\n",
        "    sentence = ' '.join(new_words)\n",
        "    \n",
        "    return sentence\n",
        "def swap_word(new_words):\n",
        "    \n",
        "    random_idx_1 = random.randint(0, len(new_words)-1)\n",
        "    random_idx_2 = random_idx_1\n",
        "    counter = 0\n",
        "    \n",
        "    while random_idx_2 == random_idx_1:\n",
        "        random_idx_2 = random.randint(0, len(new_words)-1)\n",
        "        counter += 1\n",
        "        \n",
        "        if counter > 3:\n",
        "            return new_words\n",
        "    \n",
        "    new_words[random_idx_1], new_words[random_idx_2] = new_words[random_idx_2], new_words[random_idx_1] \n",
        "    return new_words\n",
        "\n",
        "# This will Swap the words\n",
        "def random_swap(words, n):\n",
        "    \n",
        "    words = words.split()\n",
        "    new_words = words.copy()\n",
        "    # n is the number of words to be swapped\n",
        "    for _ in range(n):\n",
        "        new_words = swap_word(new_words)\n",
        "        \n",
        "    sentence = ' '.join(new_words)\n",
        "    \n",
        "    return sentence\n",
        "def random_insertion(words, n):\n",
        "    \n",
        "    words = words.split()\n",
        "    new_words = words.copy()\n",
        "    \n",
        "    for _ in range(n):\n",
        "        add_word(new_words)\n",
        "        \n",
        "    sentence = ' '.join(new_words)\n",
        "    return sentence\n",
        "\n",
        "def add_word(new_words):\n",
        "    \n",
        "    synonyms = []\n",
        "    counter = 0\n",
        "    \n",
        "    while len(synonyms) < 1:\n",
        "        random_word = new_words[random.randint(0, len(new_words)-1)]\n",
        "        synonyms = get_synonyms(random_word)\n",
        "        counter += 1\n",
        "        if counter >= 10:\n",
        "            return\n",
        "        \n",
        "    random_synonym = synonyms[0]\n",
        "    random_idx = random.randint(0, len(new_words)-1)\n",
        "    new_words.insert(random_idx, random_synonym)"
      ],
      "execution_count": null,
      "outputs": [
        {
          "name": "stdout",
          "text": "['i', 'me', 'my', 'myself', 'we', 'our', 'ours', 'ourselves', 'you', \"you're\", \"you've\", \"you'll\", \"you'd\", 'your', 'yours', 'yourself', 'yourselves', 'he', 'him', 'his', 'himself', 'she', \"she's\", 'her', 'hers', 'herself', 'it', \"it's\", 'its', 'itself', 'they', 'them', 'their', 'theirs', 'themselves', 'what', 'which', 'who', 'whom', 'this', 'that', \"that'll\", 'these', 'those', 'am', 'is', 'are', 'was', 'were', 'be', 'been', 'being', 'have', 'has', 'had', 'having', 'do', 'does', 'did', 'doing', 'a', 'an', 'the', 'and', 'but', 'if', 'or', 'because', 'as', 'until', 'while', 'of', 'at', 'by', 'for', 'with', 'about', 'against', 'between', 'into', 'through', 'during', 'before', 'after', 'above', 'below', 'to', 'from', 'up', 'down', 'in', 'out', 'on', 'off', 'over', 'under', 'again', 'further', 'then', 'once', 'here', 'there', 'when', 'where', 'why', 'how', 'all', 'any', 'both', 'each', 'few', 'more', 'most', 'other', 'some', 'such', 'no', 'nor', 'not', 'only', 'own', 'same', 'so', 'than', 'too', 'very', 's', 't', 'can', 'will', 'just', 'don', \"don't\", 'should', \"should've\", 'now', 'd', 'll', 'm', 'o', 're', 've', 'y', 'ain', 'aren', \"aren't\", 'couldn', \"couldn't\", 'didn', \"didn't\", 'doesn', \"doesn't\", 'hadn', \"hadn't\", 'hasn', \"hasn't\", 'haven', \"haven't\", 'isn', \"isn't\", 'ma', 'mightn', \"mightn't\", 'mustn', \"mustn't\", 'needn', \"needn't\", 'shan', \"shan't\", 'shouldn', \"shouldn't\", 'wasn', \"wasn't\", 'weren', \"weren't\", 'won', \"won't\", 'wouldn', \"wouldn't\"]\n",
          "output_type": "stream"
        }
      ]
    },
    {
      "cell_type": "code",
      "metadata": {
        "execution": {
          "iopub.status.busy": "2021-08-28T05:04:07.364874Z",
          "iopub.execute_input": "2021-08-28T05:04:07.365363Z",
          "iopub.status.idle": "2021-08-28T05:04:07.379413Z",
          "shell.execute_reply.started": "2021-08-28T05:04:07.365315Z",
          "shell.execute_reply": "2021-08-28T05:04:07.378685Z"
        },
        "trusted": true,
        "id": "i7_9nQEDJtB0",
        "outputId": "0f73652f-a3a3-4b43-ba98-8e5b961e8131"
      },
      "source": [
        "def aug(sent,n,p):\n",
        "    print(f\" Original Sentence : {sent}\")\n",
        "    print()\n",
        "    print()\n",
        "    print(f\" SR Augmented Sentence : {synonym_replacement(sent,n)}\")\n",
        "    print()\n",
        "    print()\n",
        "    print(f\" RD Augmented Sentence : {random_deletion(sent,p)}\")\n",
        "    print()\n",
        "    print()\n",
        "    print(f\" RS Augmented Sentence : {random_swap(sent,n)}\")    \n",
        "    print()\n",
        "    print()\n",
        "    print(f\" RI Augmented Sentence : {random_insertion(sent,n)}\")    \n",
        "    print()\n",
        "    print()\n",
        "    \n",
        "trial_sent = df['Sent'][6]\n",
        "aug(trial_sent,4,0.3)"
      ],
      "execution_count": null,
      "outputs": [
        {
          "name": "stdout",
          "text": " Original Sentence : Says that Tennessee law requires that schools receive half of proceeds -- $31 million per year -- from a half-cent increase in the Shelby County sales tax.\n\n\n SR Augmented Sentence : enounce that tennessee law want that schools receive half of proceeds -- $31 million per twelvemonth -- from a half-cent increase in the Shelby County sales tax.\n\n\n RD Augmented Sentence : that Tennessee law requires schools receive of proceeds -- $31 year -- from a half-cent in Shelby sales tax.\n\n\n RS Augmented Sentence : Says million Tennessee law County that of receive half schools proceeds -- $31 year per that -- from a half-cent increase in the Shelby requires sales tax.\n\n\n RI Augmented Sentence : Says that Tennessee law requires that schools receive half of proceeds wages -- $31 million per year -- from payoff a half-cent increase in the one half payoff Shelby County sales tax.\n\n\n",
          "output_type": "stream"
        }
      ]
    },
    {
      "cell_type": "code",
      "metadata": {
        "execution": {
          "iopub.status.busy": "2021-08-28T05:04:07.380490Z",
          "iopub.execute_input": "2021-08-28T05:04:07.380980Z",
          "iopub.status.idle": "2021-08-28T05:04:07.397792Z",
          "shell.execute_reply.started": "2021-08-28T05:04:07.380939Z",
          "shell.execute_reply": "2021-08-28T05:04:07.396989Z"
        },
        "trusted": true,
        "id": "ox9SSFITJtB2",
        "outputId": "156ddbea-2f39-46c1-ba76-c67675283241"
      },
      "source": [
        "def aug(sent , op , n ,p):\n",
        "    return [sent,synonym_replacement(sent,n),random_deletion(sent,p),random_swap(sent,n),random_insertion(sent,n)],[op,op,op,op,op]\n",
        "aug(df['Sent'][6],df['Pred'][6],4,0.3)"
      ],
      "execution_count": null,
      "outputs": [
        {
          "execution_count": 16,
          "output_type": "execute_result",
          "data": {
            "text/plain": "(['Says that Tennessee law requires that schools receive half of proceeds -- $31 million per year -- from a half-cent increase in the Shelby County sales tax.',\n  'Says that Tennessee practice of law requires that civilise receive half of proceeds -- $31 million per year -- from a half-cent increment in the Shelby county sales tax.',\n  'Says that Tennessee that schools receive of -- $31 million per -- from a increase in the Shelby County sales',\n  'Says that Tennessee law requires that schools from half of proceeds County $31 million per -- -- receive a half-cent increase in sales Shelby year the tax.',\n  'Says that Tennessee law requires that schools receive sale half of proceeds -- $31 million per year growth -- from a train half-cent increase in the Shelby County sales payoff tax.'],\n ['true', 'true', 'true', 'true', 'true'])"
          },
          "metadata": {}
        }
      ]
    },
    {
      "cell_type": "code",
      "metadata": {
        "execution": {
          "iopub.status.busy": "2021-08-28T05:04:07.399158Z",
          "iopub.execute_input": "2021-08-28T05:04:07.399602Z",
          "iopub.status.idle": "2021-08-28T05:04:20.482438Z",
          "shell.execute_reply.started": "2021-08-28T05:04:07.399560Z",
          "shell.execute_reply": "2021-08-28T05:04:20.481272Z"
        },
        "trusted": true,
        "id": "qT36zhpIJtB4",
        "outputId": "4eae4b01-950f-45e1-8aaa-e6ea91069082"
      },
      "source": [
        "X = df['Sent'].tolist()\n",
        "Y = df['Pred'].tolist()\n",
        "X_new = []\n",
        "Y_new = []\n",
        "for i in tqdm(range(len(X))):\n",
        "    x , y= aug(X[6],Y[i],4,0.3)\n",
        "    X_new = X_new + x\n",
        "    Y_new = Y_new + y\n",
        "len(X_new),len(Y_new)"
      ],
      "execution_count": null,
      "outputs": [
        {
          "name": "stderr",
          "text": "100%|██████████| 13838/13838 [00:13<00:00, 1058.98it/s]\n",
          "output_type": "stream"
        },
        {
          "execution_count": 17,
          "output_type": "execute_result",
          "data": {
            "text/plain": "(69190, 69190)"
          },
          "metadata": {}
        }
      ]
    },
    {
      "cell_type": "code",
      "metadata": {
        "execution": {
          "iopub.status.busy": "2021-08-28T05:04:20.483984Z",
          "iopub.execute_input": "2021-08-28T05:04:20.484424Z",
          "iopub.status.idle": "2021-08-28T05:04:20.544891Z",
          "shell.execute_reply.started": "2021-08-28T05:04:20.484381Z",
          "shell.execute_reply": "2021-08-28T05:04:20.543949Z"
        },
        "trusted": true,
        "id": "4Q6u14lyJtB5",
        "outputId": "97fbca56-11af-4be3-8b60-ca08e17d1f66"
      },
      "source": [
        "dfaug = pd.DataFrame(list(zip(X_new,Y_new)),\n",
        "               columns =['Sent', 'Pred'])\n",
        "print(dfaug.shape)\n",
        "dfaug.groupby('Pred').count()"
      ],
      "execution_count": null,
      "outputs": [
        {
          "name": "stdout",
          "text": "(69190, 2)\n",
          "output_type": "stream"
        },
        {
          "execution_count": 18,
          "output_type": "execute_result",
          "data": {
            "text/plain": "              Sent\nPred              \nbarely-true  10515\nfalse        12535\nhalf-true    13135\nmostly-true  12270\npants-fire   10470\ntrue         10265",
            "text/html": "<div>\n<style scoped>\n    .dataframe tbody tr th:only-of-type {\n        vertical-align: middle;\n    }\n\n    .dataframe tbody tr th {\n        vertical-align: top;\n    }\n\n    .dataframe thead th {\n        text-align: right;\n    }\n</style>\n<table border=\"1\" class=\"dataframe\">\n  <thead>\n    <tr style=\"text-align: right;\">\n      <th></th>\n      <th>Sent</th>\n    </tr>\n    <tr>\n      <th>Pred</th>\n      <th></th>\n    </tr>\n  </thead>\n  <tbody>\n    <tr>\n      <th>barely-true</th>\n      <td>10515</td>\n    </tr>\n    <tr>\n      <th>false</th>\n      <td>12535</td>\n    </tr>\n    <tr>\n      <th>half-true</th>\n      <td>13135</td>\n    </tr>\n    <tr>\n      <th>mostly-true</th>\n      <td>12270</td>\n    </tr>\n    <tr>\n      <th>pants-fire</th>\n      <td>10470</td>\n    </tr>\n    <tr>\n      <th>true</th>\n      <td>10265</td>\n    </tr>\n  </tbody>\n</table>\n</div>"
          },
          "metadata": {}
        }
      ]
    },
    {
      "cell_type": "code",
      "metadata": {
        "execution": {
          "iopub.status.busy": "2021-08-28T05:04:20.546811Z",
          "iopub.execute_input": "2021-08-28T05:04:20.547103Z",
          "iopub.status.idle": "2021-08-28T05:04:20.856093Z",
          "shell.execute_reply.started": "2021-08-28T05:04:20.547072Z",
          "shell.execute_reply": "2021-08-28T05:04:20.855298Z"
        },
        "trusted": true,
        "id": "76zi80LUJtB6",
        "outputId": "9db7b10a-9dcc-4825-dd21-391ab2d425e8"
      },
      "source": [
        "dfaug.to_csv('df_aug.csv',index=False)\n",
        "dfaug.head()"
      ],
      "execution_count": null,
      "outputs": [
        {
          "execution_count": 19,
          "output_type": "execute_result",
          "data": {
            "text/plain": "                                                Sent  Pred\n0  Says that Tennessee law requires that schools ...  true\n1  articulate that Tennessee natural law requires...  true\n2  Says that Tennessee law requires that receive ...  true\n3  sales that Tennessee County requires that scho...  true\n4  Says that Tennessee law requires that constabu...  true",
            "text/html": "<div>\n<style scoped>\n    .dataframe tbody tr th:only-of-type {\n        vertical-align: middle;\n    }\n\n    .dataframe tbody tr th {\n        vertical-align: top;\n    }\n\n    .dataframe thead th {\n        text-align: right;\n    }\n</style>\n<table border=\"1\" class=\"dataframe\">\n  <thead>\n    <tr style=\"text-align: right;\">\n      <th></th>\n      <th>Sent</th>\n      <th>Pred</th>\n    </tr>\n  </thead>\n  <tbody>\n    <tr>\n      <th>0</th>\n      <td>Says that Tennessee law requires that schools ...</td>\n      <td>true</td>\n    </tr>\n    <tr>\n      <th>1</th>\n      <td>articulate that Tennessee natural law requires...</td>\n      <td>true</td>\n    </tr>\n    <tr>\n      <th>2</th>\n      <td>Says that Tennessee law requires that receive ...</td>\n      <td>true</td>\n    </tr>\n    <tr>\n      <th>3</th>\n      <td>sales that Tennessee County requires that scho...</td>\n      <td>true</td>\n    </tr>\n    <tr>\n      <th>4</th>\n      <td>Says that Tennessee law requires that constabu...</td>\n      <td>true</td>\n    </tr>\n  </tbody>\n</table>\n</div>"
          },
          "metadata": {}
        }
      ]
    },
    {
      "cell_type": "code",
      "metadata": {
        "execution": {
          "iopub.status.busy": "2021-08-28T05:04:20.857159Z",
          "iopub.execute_input": "2021-08-28T05:04:20.857528Z",
          "iopub.status.idle": "2021-08-28T05:04:20.877961Z",
          "shell.execute_reply.started": "2021-08-28T05:04:20.857501Z",
          "shell.execute_reply": "2021-08-28T05:04:20.877224Z"
        },
        "trusted": true,
        "id": "GfX5st6hJtB_",
        "outputId": "957e995e-ca5e-4e0c-be1f-db17e8e4ca1f"
      },
      "source": [
        "dfaug.groupby('Pred').count()"
      ],
      "execution_count": null,
      "outputs": [
        {
          "execution_count": 20,
          "output_type": "execute_result",
          "data": {
            "text/plain": "              Sent\nPred              \nbarely-true  10515\nfalse        12535\nhalf-true    13135\nmostly-true  12270\npants-fire   10470\ntrue         10265",
            "text/html": "<div>\n<style scoped>\n    .dataframe tbody tr th:only-of-type {\n        vertical-align: middle;\n    }\n\n    .dataframe tbody tr th {\n        vertical-align: top;\n    }\n\n    .dataframe thead th {\n        text-align: right;\n    }\n</style>\n<table border=\"1\" class=\"dataframe\">\n  <thead>\n    <tr style=\"text-align: right;\">\n      <th></th>\n      <th>Sent</th>\n    </tr>\n    <tr>\n      <th>Pred</th>\n      <th></th>\n    </tr>\n  </thead>\n  <tbody>\n    <tr>\n      <th>barely-true</th>\n      <td>10515</td>\n    </tr>\n    <tr>\n      <th>false</th>\n      <td>12535</td>\n    </tr>\n    <tr>\n      <th>half-true</th>\n      <td>13135</td>\n    </tr>\n    <tr>\n      <th>mostly-true</th>\n      <td>12270</td>\n    </tr>\n    <tr>\n      <th>pants-fire</th>\n      <td>10470</td>\n    </tr>\n    <tr>\n      <th>true</th>\n      <td>10265</td>\n    </tr>\n  </tbody>\n</table>\n</div>"
          },
          "metadata": {}
        }
      ]
    }
  ]
}